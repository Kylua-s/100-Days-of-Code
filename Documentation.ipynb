{
 "cells": [
  {
   "cell_type": "markdown",
   "source": [
    "# 100 Days of Code: The Complete Python Pro Bootcamp - Documentation\n",
    "Welcome to my Jupyter notebook where I will document my progress in learning Python.\n",
    "I have structured it into five parts, each one focusing on a different skill level.\n",
    "So far, I have completed the 'Beginner' part and 'Intermediate' is in progress.\n",
    "In the end, you will find an index that will help you navigate through the different sections."
   ],
   "metadata": {
    "collapsed": false
   }
  },
  {
   "cell_type": "markdown",
   "source": [
    "## Beginner\n",
    "#### Content:\n",
    "1. Print Function\n",
    "2. Variables\n",
    "3. Primitive Data Types\n",
    "4. Quotes\n",
    "5. Indentation\n",
    "6. Comments\n",
    "7. String Manipulation (f-Strings/ Subscripting)\n",
    "8. Input Function\n",
    "9. Type Conversion\n",
    "10. Arithmetic and Assignment Operators\n",
    "11. Comparison and Logical Operators\n",
    "12. Conditional statements\n",
    "13. Functions\n",
    "14. Scope (Local and Global Variables)\n",
    "15. Loops\n",
    "16. Sequence types\n",
    "17. Build-In Modules\n",
    "18. Other Build-In Functions"
   ],
   "metadata": {
    "collapsed": false
   }
  },
  {
   "cell_type": "markdown",
   "source": [
    "#### 1. Print Function\n",
    "- Built-in function\n",
    "- Outputs text or values to the console or terminal"
   ],
   "metadata": {
    "collapsed": false
   }
  },
  {
   "cell_type": "code",
   "execution_count": 58,
   "outputs": [
    {
     "name": "stdout",
     "output_type": "stream",
     "text": [
      "Hello World\n"
     ]
    }
   ],
   "source": [
    "print(\"Hello World\")"
   ],
   "metadata": {
    "collapsed": false,
    "ExecuteTime": {
     "end_time": "2023-05-08T10:11:25.457715800Z",
     "start_time": "2023-05-08T10:11:25.285290100Z"
    }
   }
  },
  {
   "cell_type": "markdown",
   "source": [
    "#### 2. Variables\n",
    "- Names that represent a value stored in the computer's memory\n",
    "- Are case-sensitive\n",
    "- Names must start with a letter or the underscore\n",
    "- Multiple words are best separated by an underscore\n",
    "- Use capital letters for variable names that are constants\n",
    "- Don't need to be declared with any particular type\n",
    "- Can change types"
   ],
   "metadata": {
    "collapsed": false
   }
  },
  {
   "cell_type": "code",
   "execution_count": 59,
   "outputs": [
    {
     "name": "stdout",
     "output_type": "stream",
     "text": [
      "3.14159\n",
      "42\n",
      "42\n"
     ]
    }
   ],
   "source": [
    "PI = 3.14159\n",
    "print(PI)\n",
    "number = '42'\n",
    "print(number)\n",
    "number = 42\n",
    "print(number)"
   ],
   "metadata": {
    "collapsed": false,
    "ExecuteTime": {
     "end_time": "2023-05-08T10:11:25.459217Z",
     "start_time": "2023-05-08T10:11:25.303292200Z"
    }
   }
  },
  {
   "cell_type": "markdown",
   "source": [
    "#### 3. Primitive Data Types\n",
    "- Integer (int): represents whole numbers\n",
    "- Float (float): represents decimal numbers\n",
    "- String (str): represents sequences of characters\n",
    "- Boolean (bool): represents logical values 'True' and 'False'"
   ],
   "metadata": {
    "collapsed": false
   }
  },
  {
   "cell_type": "code",
   "execution_count": 60,
   "outputs": [
    {
     "name": "stdout",
     "output_type": "stream",
     "text": [
      "<class 'int'>\n",
      "<class 'float'>\n",
      "<class 'str'>\n",
      "<class 'bool'>\n"
     ]
    }
   ],
   "source": [
    "print(type(17))\n",
    "print(type(3.14))\n",
    "print(type('Data Types'))\n",
    "print(type(True))"
   ],
   "metadata": {
    "collapsed": false,
    "ExecuteTime": {
     "end_time": "2023-05-08T10:11:25.461216300Z",
     "start_time": "2023-05-08T10:11:25.318712700Z"
    }
   }
  },
  {
   "cell_type": "markdown",
   "source": [
    "#### 4. Quotes\n",
    "- No difference between single and double quotes\n",
    "- Mostly a matter of personal preference\n",
    "- The Most common convention is to use single quotes for string literals and reserve double quotes for strings that contain single quotes"
   ],
   "metadata": {
    "collapsed": false
   }
  },
  {
   "cell_type": "code",
   "execution_count": null,
   "outputs": [],
   "source": [
    "single = 'Quotes'\n",
    "double = \"Quotes\""
   ],
   "metadata": {
    "collapsed": false,
    "is_executing": true,
    "ExecuteTime": {
     "start_time": "2023-05-08T10:11:25.335213700Z"
    }
   }
  },
  {
   "cell_type": "markdown",
   "source": [
    "#### 5. Indentation\n",
    "- Critical aspect of the language's syntax\n",
    "- Used to define blocks of code and control program flow"
   ],
   "metadata": {
    "collapsed": false
   }
  },
  {
   "cell_type": "code",
   "execution_count": null,
   "outputs": [
    {
     "data": {
      "text/plain": "\"\\n test2 = 'IndentationError' # <-- IndentationError\\n\""
     },
     "execution_count": 62,
     "metadata": {},
     "output_type": "execute_result"
    }
   ],
   "source": [
    "test1 = 'test'\n",
    "'''\n",
    " test2 = 'IndentationError' # <-- IndentationError\n",
    "'''"
   ],
   "metadata": {
    "collapsed": false,
    "is_executing": true,
    "ExecuteTime": {
     "start_time": "2023-05-08T10:11:25.350717200Z"
    }
   }
  },
  {
   "cell_type": "markdown",
   "source": [
    "#### 6. Comments\n",
    "- Used to add explanatory or descriptive text within the source code\n",
    "- Types:\n",
    "    - Single-line comments\n",
    "    - Multi-line comments"
   ],
   "metadata": {
    "collapsed": false
   }
  },
  {
   "cell_type": "code",
   "execution_count": null,
   "outputs": [
    {
     "data": {
      "text/plain": "'\\nThis is a multi-line comment.\\nIt can span multiple lines and is used to provide more detailed explanations.\\n'"
     },
     "execution_count": 63,
     "metadata": {},
     "output_type": "execute_result"
    }
   ],
   "source": [
    "# This is a comment\n",
    "\n",
    "\"\"\"\n",
    "This is a multi-line comment.\n",
    "It can span multiple lines and is used to provide more detailed explanations.\n",
    "\"\"\""
   ],
   "metadata": {
    "collapsed": false,
    "is_executing": true,
    "ExecuteTime": {
     "start_time": "2023-05-08T10:11:25.366715800Z"
    }
   }
  },
  {
   "cell_type": "markdown",
   "source": [
    "#### 7. String Manipulation (f-Strings/ Subscripting)\n",
    "- f-Strings\n",
    "    - Begin with the letter 'f' and use curly braces {} to enclose expressions that will be evaluated at runtime\n",
    "-  Subscripting\n",
    "    - A string can be subscripted by using square brackets [] and the index or slice notation\n"
   ],
   "metadata": {
    "collapsed": false
   }
  },
  {
   "cell_type": "code",
   "execution_count": null,
   "outputs": [
    {
     "name": "stdout",
     "output_type": "stream",
     "text": [
      "The cake is a 12 / 10\n"
     ]
    }
   ],
   "source": [
    "# Subscripting\n",
    "message = 'The cake is a lie.'\n",
    "out_of_context = message[4: 8]\n",
    "\n",
    "# f Strings\n",
    "print(f\"The {out_of_context} is a 12 / 10\")"
   ],
   "metadata": {
    "collapsed": false,
    "is_executing": true,
    "ExecuteTime": {
     "start_time": "2023-05-08T10:11:25.381717100Z"
    }
   }
  },
  {
   "cell_type": "markdown",
   "source": [
    "#### 8. Input Function\n",
    "- Used to take user input from the console\n",
    "- Prompts the user to enter some text\n",
    "- Waits for the user to enter the text and press enter"
   ],
   "metadata": {
    "collapsed": false
   }
  },
  {
   "cell_type": "code",
   "execution_count": null,
   "outputs": [],
   "source": [
    "# name = input(\"Enter your name: \")\n",
    "# print(\"Hello,\", name)"
   ],
   "metadata": {
    "collapsed": false,
    "is_executing": true,
    "ExecuteTime": {
     "start_time": "2023-05-08T10:11:25.397716400Z"
    }
   }
  },
  {
   "cell_type": "markdown",
   "source": [
    "#### 9. Type Conversion\n",
    "- Process of converting a value from one data type to another\n"
   ],
   "metadata": {
    "collapsed": false
   }
  },
  {
   "cell_type": "code",
   "execution_count": null,
   "outputs": [
    {
     "name": "stdout",
     "output_type": "stream",
     "text": [
      "42\n",
      "<class 'int'>\n"
     ]
    }
   ],
   "source": [
    "x = '42'\n",
    "y = int(x)\n",
    "print(y)\n",
    "print(type(y))"
   ],
   "metadata": {
    "collapsed": false,
    "is_executing": true,
    "ExecuteTime": {
     "start_time": "2023-05-08T10:11:25.412713700Z"
    }
   }
  },
  {
   "cell_type": "markdown",
   "source": [
    "#### 10. Arithmetic and Assignment Operators\n",
    "| Operator | Name           | Example | Or         | Same as | Description                                                                  |\n",
    "|----------|----------------|---------|------------|---------|------------------------------------------------------------------------------|\n",
    "| +        | Addition       | 1 + 2   | x = x + 1  | x += 1  | adds two values together                                                     |\n",
    "| -        | Subtraction    | 1 - 2   | x = x - 1  | x -= 1  | subtracts one value from another                                             |\n",
    "| *        | Multiplication | 1 * 2   | x = x * 1  | x *= 2  | multiplies two values together                                               |\n",
    "| /        | Division       | 1 / 2   | x = x / 2  | x /= 2  | divides one value by another, and returns a float result                     |\n",
    "| //       | Floor Division | 1 // 2  | x = x // 2 | x //= 2 | divides one value by another, and returns an integer result by rounding down |\n",
    "| %        | Modulus        | 1 % 2   | x = x % 2  | x %= 2  | returns the remainder of a division operation                                |\n",
    "| **       | Exponentiation | 2 ** 2  | x = x ** 2 | x **= 2 | raises one value to the power of another                                     |"
   ],
   "metadata": {
    "collapsed": false
   }
  },
  {
   "cell_type": "code",
   "execution_count": null,
   "outputs": [
    {
     "name": "stdout",
     "output_type": "stream",
     "text": [
      "5\n",
      "3.3333333333333335\n",
      "3\n",
      "1\n",
      "8\n"
     ]
    }
   ],
   "source": [
    "print(2 + 3) # Output: 5\n",
    "print(10 / 3) # Output: 3.3333333333333335\n",
    "print(10 // 3) # Output: 3\n",
    "print(10 % 3) # Output: 1\n",
    "print(2 ** 3) # Output: 8 x = 1, y = 2, z = 3"
   ],
   "metadata": {
    "collapsed": false,
    "is_executing": true,
    "ExecuteTime": {
     "start_time": "2023-05-08T10:11:25.429213700Z"
    }
   }
  },
  {
   "cell_type": "markdown",
   "source": [
    "#### 11. Comparison and Logical Operators\n",
    "###### x = 1, y = 2\n",
    "| Operator | Name                    | Example   | Description                                                             |\n",
    "|----------|-------------------------|-----------|-------------------------------------------------------------------------|\n",
    "| ==       | Equal                   | x == y -1 | Returns True if the statement is true, otherwise False                  |\n",
    "| !=       | Not Equal               | x != y    | Returns True if the statement is true, otherwise False                  |\n",
    "| >        | Greater than            | y > x     | Returns True if the statement is true, otherwise False                  |\n",
    "| >=       | Less than               | y >= x    | Returns True if the statement is true, otherwise False                  |\n",
    "| <        | Greater than or eqal to | x < y     | Returns True if the statement is true, otherwise False                  |\n",
    "| <=       | Less than or equal to   | x <= y    | Returns True if the statement is true, otherwise False                  |\n",
    "| and      | Exponentiation          | 2 ** 2    | Returns True if both statements are true, otherwise False               |\n",
    "| or       | Exponentiation          | 2 ** 2    | Returns True if one of the statements is true, otherwise False          |\n",
    "| not      | Exponentiation          | 2 ** 2    | Reverse the result, returns False if the result is true, otherwise True |"
   ],
   "metadata": {
    "collapsed": false
   }
  },
  {
   "cell_type": "code",
   "execution_count": null,
   "outputs": [
    {
     "name": "stdout",
     "output_type": "stream",
     "text": [
      "False\n",
      "True\n",
      "True\n"
     ]
    }
   ],
   "source": [
    "x = 1\n",
    "y = 2\n",
    "print(x == y) # Output: False\n",
    "print(x <= y) # Output: True\n",
    "print(x == y or y >= 2) # Output: True\n"
   ],
   "metadata": {
    "collapsed": false,
    "is_executing": true,
    "ExecuteTime": {
     "start_time": "2023-05-08T10:11:25.458717Z"
    }
   }
  },
  {
   "cell_type": "markdown",
   "source": [
    "#### 12. Conditional statements\n",
    "- if, elif and else are used to execute different blocks of code based on the evaluation of multiple conditions"
   ],
   "metadata": {
    "collapsed": false
   }
  },
  {
   "cell_type": "code",
   "execution_count": null,
   "outputs": [
    {
     "name": "stdout",
     "output_type": "stream",
     "text": [
      "Counting ...\n"
     ]
    }
   ],
   "source": [
    "if 1 + 1 == 1:\n",
    "    print('Check again!')\n",
    "elif 1 + 1 == 42:\n",
    "    print('The answer is 42')\n",
    "else:\n",
    "    print('Counting ...')"
   ],
   "metadata": {
    "collapsed": false,
    "is_executing": true,
    "ExecuteTime": {
     "start_time": "2023-05-08T10:11:25.489716300Z"
    }
   }
  },
  {
   "cell_type": "markdown",
   "source": [
    "#### 13. Functions\n",
    "- A block of code that performs a specific task\n",
    "- Help you break down large programs into smaller, more manageable pieces\n",
    "- Can have a return value"
   ],
   "metadata": {
    "collapsed": false
   }
  },
  {
   "cell_type": "code",
   "execution_count": null,
   "outputs": [
    {
     "name": "stdout",
     "output_type": "stream",
     "text": [
      "17\n",
      "None\n",
      "17\n"
     ]
    }
   ],
   "source": [
    "def add_numbers1(x, y):\n",
    "    print(x + y)\n",
    "\n",
    "def add_numbers2(x, y):\n",
    "    result = x + y\n",
    "    return result\n",
    "\n",
    "print(add_numbers1(10, 7))\n",
    "print(add_numbers2(10, 7))"
   ],
   "metadata": {
    "collapsed": false,
    "is_executing": true,
    "ExecuteTime": {
     "start_time": "2023-05-08T10:11:25.520714300Z"
    }
   }
  },
  {
   "cell_type": "markdown",
   "source": [
    "#### 14. Scope (Local and Global Variables)\n",
    "- A variable's scope refers to the region of the program where that variable is accessible\n",
    "- Local Scope\n",
    "    - Defined inside a function\n",
    "    - Only accessible within that function\n",
    "- Global Scope\n",
    "    - Defined outside any function\n",
    "    - Accessible from anywhere in the program"
   ],
   "metadata": {
    "collapsed": false
   }
  },
  {
   "cell_type": "code",
   "execution_count": null,
   "outputs": [
    {
     "name": "stdout",
     "output_type": "stream",
     "text": [
      "Hello there\n",
      "General Kenobi\n"
     ]
    }
   ],
   "source": [
    "def my_usless_print_function():\n",
    "    message = \"Hello there\" # <- Local scope\n",
    "    print(message)\n",
    "\n",
    "answer = \"General Kenobi\" # <- Global scope\n",
    "def my_other_usless_function():\n",
    "    print(answer)\n",
    "\n",
    "\n",
    "my_usless_print_function()\n",
    "my_other_usless_function()"
   ],
   "metadata": {
    "collapsed": false,
    "is_executing": true,
    "ExecuteTime": {
     "start_time": "2023-05-08T10:11:25.535713400Z"
    }
   }
  },
  {
   "cell_type": "markdown",
   "source": [],
   "metadata": {
    "collapsed": false
   }
  },
  {
   "cell_type": "markdown",
   "source": [
    "#### 15. Loops\n",
    "- Executes a block of code repeatedly\n",
    "- For loop\n",
    "    - Used to iterate over a sequence (such as a list, tuple, or string)\n",
    "- While loop\n",
    "    - Used to execute a block of code repeatedly as long as a certain condition is true"
   ],
   "metadata": {
    "collapsed": false
   }
  },
  {
   "cell_type": "code",
   "execution_count": null,
   "outputs": [
    {
     "name": "stdout",
     "output_type": "stream",
     "text": [
      "L\n",
      "O\n",
      "O\n",
      "P\n",
      "5\n"
     ]
    }
   ],
   "source": [
    "chars = ['L', 'O', 'O', 'P']\n",
    "for char in chars:\n",
    "    print(char)\n",
    "\n",
    "i = 0\n",
    "total = -1\n",
    "while i < 4:\n",
    "    total += i\n",
    "    i += 1\n",
    "print(total)"
   ],
   "metadata": {
    "collapsed": false,
    "is_executing": true,
    "ExecuteTime": {
     "start_time": "2023-05-08T10:11:25.552213400Z"
    }
   }
  },
  {
   "cell_type": "markdown",
   "source": [
    "#### 16. Sequence types\n",
    "- Used to represent a collection of ordered and indexed items\n",
    "- Lists\n",
    "    - Mutable and ordered\n",
    "- Tuples\n",
    "    - Immutable and ordered\n",
    "- Sets\n",
    "    - Mutable and unordered\n",
    "    - Do not allow duplicate elements\n",
    "- Dictionary\n",
    "    - Mutable and unordered\n",
    "    - Collections of key-value pairs\n",
    "- Mutable means that you can add, remove, or modify elements in the list\n",
    "- Immutable means that their values cannot be changed once they are assigned\n",
    "- Ordered means that the position of each element is significant. For example, in a list, the first element is at index 0, the second element is at index 1, and so on.\n",
    "- Unordered means that the elements are not arranged in a specific order, and you cannot use indices to access or modify the elements in a set."
   ],
   "metadata": {
    "collapsed": false
   }
  },
  {
   "cell_type": "code",
   "execution_count": null,
   "outputs": [
    {
     "name": "stdout",
     "output_type": "stream",
     "text": [
      "[1, 2, 3, 5.0, 6]\n",
      "3\n",
      "{1, 3, 4}\n",
      "{'brand': 'Hyundai', 'model': 'N Vision 74'}\n"
     ]
    }
   ],
   "source": [
    "# List\n",
    "my_list = [1, 2, 3, 'four', 5.0]\n",
    "my_list.append(6)\n",
    "my_list.remove('four')\n",
    "print(my_list)\n",
    "\n",
    "# Tuples\n",
    "my_tuple = (1, 2, 3, 'four', 5.0)\n",
    "print(my_tuple[2])\n",
    "\n",
    "# Set\n",
    "my_set = {1, 2, 3}\n",
    "my_set.add(4)\n",
    "my_set.remove(2)\n",
    "print(my_set)\n",
    "\n",
    "# Dictionary\n",
    "my_dict = {\n",
    "    \"brand\": \"Hyundai\",\n",
    "    \"model\": \"N Vision 74\"\n",
    "}\n",
    "print(my_dict)"
   ],
   "metadata": {
    "collapsed": false,
    "is_executing": true,
    "ExecuteTime": {
     "start_time": "2023-05-08T10:11:25.568714600Z"
    }
   }
  },
  {
   "cell_type": "markdown",
   "source": [
    "#### 17. Build-In Modules\n",
    "- Files that contain functions, classes, variables, and other objects\n",
    "- Used to organize code and make it easier to reuse and share\n",
    "- Some useful build in modules:\n",
    "- Random\n",
    "    - Provides functions for generating random numbers and selecting random items from a sequence.\n",
    "- Time module\n",
    "    - Provides functions for working with time-related tasks\n",
    "- Datetime\n",
    "    - Provides classes for working with dates and times, including formatting and parsing dates in various formats.\n",
    "- OS\n",
    "    - Provides functions for working with the operating system, including interacting with the file system and environment variables."
   ],
   "metadata": {
    "collapsed": false
   }
  },
  {
   "cell_type": "code",
   "execution_count": 68,
   "outputs": [
    {
     "name": "stdout",
     "output_type": "stream",
     "text": [
      "Your lucky number is: 10\n",
      "It was the 2023-05-08 12:11:25.443714\n",
      "The files in this directory are: ['.git', 'Day', 'Documentation.ipynb', 'README.md']\n",
      "Elapsed time: 0.00044759997399523854 seconds\n"
     ]
    }
   ],
   "source": [
    "# Time module\n",
    "import time\n",
    "start_time = time.perf_counter()\n",
    "\n",
    "# Random module\n",
    "import random\n",
    "print(f\"Your lucky number is: {random.randint(0, 100)}\")\n",
    "\n",
    "# Datetime module\n",
    "import datetime\n",
    "print(f\"It was the {datetime.datetime.now()}\")\n",
    "\n",
    "# OS module\n",
    "import os\n",
    "print(f\"The files in this directory are: {os.listdir()}\")\n",
    "\n",
    "# Time module\n",
    "end_time = time.perf_counter()\n",
    "elapsed_time = end_time - start_time\n",
    "print(f\"Elapsed time: {elapsed_time} seconds\")"
   ],
   "metadata": {
    "collapsed": false,
    "ExecuteTime": {
     "end_time": "2023-05-08T10:11:25.479215700Z",
     "start_time": "2023-05-08T10:11:25.444214300Z"
    }
   }
  },
  {
   "cell_type": "markdown",
   "source": [
    "#### 18. Other Build-In Functions\n",
    "- Len Function\n",
    "    - Returns the length of an object, such as a string or list\n",
    "- Count function\n",
    "    - Returns the number of occurrences of a specific element in a given sequence or string\n",
    "- Range Function\n",
    "    - Generates a sequence of numbers, usually used in loops\n",
    "- Max Function\n",
    "    - Returns the largest item in an iterable or the largest of two or more arguments\n",
    "- Min Function\n",
    "    - Returns the smallest item in an iterable or the smallest of two or more arguments\n",
    "- Sum Function\n",
    "    - Returns the sum of all items in an iterable\n",
    "- Sorted Function\n",
    "    - Returns a sorted list from an iterable\n",
    "- Reversed Function\n",
    "    - Returns a reversed iterator of an iterable.\n"
   ],
   "metadata": {
    "collapsed": false
   }
  },
  {
   "cell_type": "code",
   "execution_count": 70,
   "outputs": [
    {
     "name": "stdout",
     "output_type": "stream",
     "text": [
      "34\n",
      "1\n",
      "3\n",
      "777\n",
      "17\n",
      "2057\n",
      "[17, 42, 555, 666, 777]\n"
     ]
    }
   ],
   "source": [
    "common_word = 'supercalifragilisticexpialidocious'\n",
    "# Len function\n",
    "print(len(common_word)) # Output: 34\n",
    "\n",
    "# Count function\n",
    "print(common_word.count('x')) # Output: 1\n",
    "\n",
    "#- Range function\n",
    "# The first parameter is the start parameter (optional, default=0)\n",
    "# The second is the stop parameter (required)\n",
    "# The third is the step parameter (optional, default=1)\n",
    "total = 0\n",
    "for number in range(3, 7, 5):\n",
    "    total += number\n",
    "print(total) # Output: 3\n",
    "\n",
    "\n",
    "numbers = [666, 17, 555, 42, 777]\n",
    "\n",
    "# Max function\n",
    "print(max(numbers)) # Output: 777\n",
    "\n",
    "# Min function\n",
    "print(min(numbers)) # Output: 17\n",
    "\n",
    "# Sum function\n",
    "print(sum(numbers)) # Output: 2057\n",
    "\n",
    "# Sorted function\n",
    "print(sorted(numbers))"
   ],
   "metadata": {
    "collapsed": false,
    "ExecuteTime": {
     "end_time": "2023-05-08T10:11:25.595714300Z",
     "start_time": "2023-05-08T10:11:25.475714500Z"
    }
   }
  },
  {
   "cell_type": "markdown",
   "source": [
    "## Intermediate\n",
    "#### Content:\n",
    "1. Classes and Objects"
   ],
   "metadata": {
    "collapsed": false
   }
  },
  {
   "cell_type": "markdown",
   "source": [
    "#### Classes and Objects\n",
    "- An object is an instance of a class\n",
    "- A class is a blueprint for creating objects\n",
    "- A class defines the behavior and properties of an object\n",
    "- The constructor initializes the object and sets its initial values\n",
    "- The constructor takes at least one argument, self, which refers to the object of the class that is being created\n",
    "- You can create multiple objects (instances) of a class"
   ],
   "metadata": {
    "collapsed": false
   }
  },
  {
   "cell_type": "code",
   "execution_count": 72,
   "outputs": [
    {
     "name": "stdout",
     "output_type": "stream",
     "text": [
      "Twilight the rainbow-colored unicorn is soaring through the sky!\n"
     ]
    }
   ],
   "source": [
    "class Unicorn: # <-- Class\n",
    "    def __init__(self, name, color): # <-- Constructor\n",
    "        self.name = name\n",
    "        self.color = color\n",
    "\n",
    "    def fly(self):\n",
    "        print(f\"{self.name} the {self.color} unicorn is soaring through the sky!\")\n",
    "\n",
    "\n",
    "twilight = Unicorn(\"Twilight\", \"rainbow-colored\") # <-- Object\n",
    "twilight.fly()"
   ],
   "metadata": {
    "collapsed": false,
    "ExecuteTime": {
     "end_time": "2023-05-08T10:11:25.614712700Z",
     "start_time": "2023-05-08T10:11:25.506214100Z"
    }
   }
  },
  {
   "cell_type": "markdown",
   "source": [
    "## Index\n",
    "#### A:\n",
    "- Arithmetic Operators | Beginner 10.\n",
    "- Assignment Operators | Beginner 10.\n",
    "#### B:\n",
    "- Boolean (Primitive Data Types) | Beginner 3.\n",
    "- Build-In Modules | Beginner 17.\n",
    "#### C:\n",
    "- Casting | Beginner 9.\n",
    "- Classes and Objects | Intermediate 1.\n",
    "- Comments | Beginner 6.\n",
    "- Comparison Operators | Beginner 11.\n",
    "- Conditional statements | Beginner 12.\n",
    "- Constuctor (Classes and Objects) | Intermediate 1.\n",
    "- Count function (Other Build-In Functions) | Beginner 18.\n",
    "#### D:\n",
    "- Data Types (Primitive) | Beginner 3.\n",
    "- Datetime module (Build-In Modules) | Beginner 17.\n",
    "- Dictionary (Sequence types) | Beginner 16.\n",
    "#### E:\n",
    "#### F:\n",
    "- f-String (String Manipulation) | Beginner 7.\n",
    "- Float (Primitive Data Types) | Beginner 3.\n",
    "- For-Loops | Beginner 15.\n",
    "- Functions | Beginner 13.\n",
    "#### G:\n",
    "- Global Variables (Scope) | Beginner 14.\n",
    "#### H:\n",
    "#### I:\n",
    "- If (Conditional statements) | Beginner 12.\n",
    "- Indentation | Beginner 5.\n",
    "- Input function | Beginner 8.\n",
    "- Instance (Classes and Objects) | Intermediate 1.\n",
    "- Integer (Primitive Data Types) | Beginner 3.\n",
    "#### J:\n",
    "#### K:\n",
    "#### L:\n",
    "- Len function (Other Build-In Functions) | Beginner 18.\n",
    "- Lists (Sequence types) | Beginner 16.\n",
    "- Local Variables (Scope) | Beginner 14.\n",
    "- Logical Operators | Beginner 11.\n",
    "- Loops | Beginner 15.\n",
    "#### M:\n",
    "- Max function (Other Build-In Functions) | Beginner 18.\n",
    "- Min function (Other Build-In Functions) | Beginner 18.\n",
    "#### N:\n",
    "#### O:\n",
    "- Operators (Arithmetic and Assignment) | Beginner 10.\n",
    "- Operators (Comparison and Logical) | Beginner 11.\n",
    "- OS module (Build-In Modules) | Beginner 17.\n",
    "#### P:\n",
    "- Primitive Data Types  | Beginner 3.\n",
    "- Print Function | Beginner 1.\n",
    "#### Q:\n",
    "- Quotes | Beginner 4.\n",
    "#### R:\n",
    "- Random module (Build-In Modules) | Beginner 17.\n",
    "- Range function (Other Build-In Functions) | Beginner 18.\n",
    "- Reversed function (Other Build-In Functions) | Beginner 18.\n",
    "#### S:\n",
    "- Scope (Local and Global Variables) | Beginner 14.\n",
    "- Sequence types | Beginner 16.\n",
    "- Sets (Sequence types) | Beginner 16.\n",
    "- Sorted function (Other Build-In Functions) | Beginner 18.\n",
    "- String (Primitive Data Types) | Beginner 3.\n",
    "- String Manipulation | Beginner 7.\n",
    "- Subscripting (String Manipulation) | Beginner 7.\n",
    "- Sum function (Other Build-In Functions) | Beginner 18.\n",
    "#### T:\n",
    "- Time module (Build-In Modules) | Beginner 17.\n",
    "- Tuples (Sequence types) | Beginner 16.\n",
    "- Type Conversion | Beginner 9.\n",
    "#### U:\n",
    "#### V:\n",
    "- Variables | Beginner 2.\n",
    "#### W:\n",
    "- While-Loops | Beginner 15.\n",
    "#### X:\n",
    "#### Y:\n",
    "#### Z:"
   ],
   "metadata": {
    "collapsed": false
   }
  }
 ],
 "metadata": {
  "kernelspec": {
   "display_name": "Python 3",
   "language": "python",
   "name": "python3"
  },
  "language_info": {
   "codemirror_mode": {
    "name": "ipython",
    "version": 3
   },
   "file_extension": ".py",
   "mimetype": "text/x-python",
   "name": "python",
   "nbconvert_exporter": "python",
   "pygments_lexer": "ipython3",
   "version": "3.10.9"
  },
  "orig_nbformat": 4
 },
 "nbformat": 4,
 "nbformat_minor": 2
}
