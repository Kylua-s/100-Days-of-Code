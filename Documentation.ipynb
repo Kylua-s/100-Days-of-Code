{
 "cells": [
  {
   "cell_type": "markdown",
   "source": [
    "# 100 Days of Code: The Complete Python Pro Bootcamp - Documentation\n",
    "Welcome to my Jupyter notebook where I will document my progress in learning Python.\n",
    "I have structured it into five parts, each one focusing on a different skill level.\n",
    "So far, I have completed the 'Beginner' and 'Intermediate' part.\n",
    "The 'Advanced' is in progress.\n",
    "The 'Expert' and 'Master' will come soon.\n",
    "In the end, you will find an index that will help you navigate through the different sections."
   ],
   "metadata": {
    "collapsed": false
   }
  },
  {
   "cell_type": "markdown",
   "source": [
    "## Beginner\n",
    "#### Content:\n",
    "1. Print Function\n",
    "2. Variables\n",
    "3. Primitive Data Types\n",
    "4. Quotes\n",
    "5. Indentation\n",
    "6. Comments\n",
    "7. String Manipulation (f-Strings/ Subscripting)\n",
    "8. Input Function\n",
    "9. Type Conversion\n",
    "10. Arithmetic and Assignment Operators\n",
    "11. Comparison and Logical Operators\n",
    "12. Conditional statements\n",
    "13. Functions\n",
    "14. Scope (Local and Global Variables)\n",
    "15. Loops\n",
    "16. Sequence types\n",
    "17. Build-In Modules\n",
    "18. Other Build-In Functions"
   ],
   "metadata": {
    "collapsed": false
   }
  },
  {
   "cell_type": "markdown",
   "source": [
    "#### 1. Print Function\n",
    "- Built-in function\n",
    "- Outputs text or values to the console or terminal"
   ],
   "metadata": {
    "collapsed": false
   }
  },
  {
   "cell_type": "code",
   "execution_count": 63,
   "outputs": [
    {
     "name": "stdout",
     "output_type": "stream",
     "text": [
      "Hello World\n"
     ]
    }
   ],
   "source": [
    "print(\"Hello World\")"
   ],
   "metadata": {
    "collapsed": false,
    "ExecuteTime": {
     "end_time": "2023-05-30T16:36:46.127343Z",
     "start_time": "2023-05-30T16:36:45.961910200Z"
    }
   }
  },
  {
   "cell_type": "markdown",
   "source": [
    "#### 2. Variables\n",
    "- Names that represent a value stored in the computer's memory\n",
    "- Are case-sensitive\n",
    "- Names must start with a letter or the underscore\n",
    "- Multiple words are best separated by an underscore\n",
    "- Use capital letters for variable names that are constants\n",
    "- Don't need to be declared with any particular type\n",
    "- Can change types"
   ],
   "metadata": {
    "collapsed": false
   }
  },
  {
   "cell_type": "code",
   "execution_count": 64,
   "outputs": [
    {
     "name": "stdout",
     "output_type": "stream",
     "text": [
      "3.14159\n",
      "42\n",
      "42\n"
     ]
    }
   ],
   "source": [
    "PI = 3.14159\n",
    "print(PI)\n",
    "number = '42'\n",
    "print(number)\n",
    "number = 42\n",
    "print(number)"
   ],
   "metadata": {
    "collapsed": false,
    "ExecuteTime": {
     "end_time": "2023-05-30T16:36:46.226845900Z",
     "start_time": "2023-05-30T16:36:45.976842600Z"
    }
   }
  },
  {
   "cell_type": "markdown",
   "source": [
    "#### 3. Primitive Data Types\n",
    "- Integer (int): represents whole numbers\n",
    "- Float (float): represents decimal numbers\n",
    "- String (str): represents sequences of characters\n",
    "- Boolean (bool): represents logical values 'True' and 'False'"
   ],
   "metadata": {
    "collapsed": false
   }
  },
  {
   "cell_type": "code",
   "execution_count": 65,
   "outputs": [
    {
     "name": "stdout",
     "output_type": "stream",
     "text": [
      "<class 'int'>\n",
      "<class 'float'>\n",
      "<class 'str'>\n",
      "<class 'bool'>\n"
     ]
    }
   ],
   "source": [
    "print(type(17))\n",
    "print(type(3.14))\n",
    "print(type('Data Types'))\n",
    "print(type(True))"
   ],
   "metadata": {
    "collapsed": false,
    "ExecuteTime": {
     "end_time": "2023-05-30T16:36:46.229343Z",
     "start_time": "2023-05-30T16:36:45.991844500Z"
    }
   }
  },
  {
   "cell_type": "markdown",
   "source": [
    "#### 4. Quotes\n",
    "- No difference between single and double quotes\n",
    "- Mostly a matter of personal preference\n",
    "- The Most common convention is to use single quotes for string literals and reserve double quotes for strings that contain single quotes"
   ],
   "metadata": {
    "collapsed": false
   }
  },
  {
   "cell_type": "code",
   "execution_count": 66,
   "outputs": [],
   "source": [
    "single = 'Quotes'\n",
    "double = \"Quotes\""
   ],
   "metadata": {
    "collapsed": false,
    "ExecuteTime": {
     "end_time": "2023-05-30T16:36:46.238343600Z",
     "start_time": "2023-05-30T16:36:46.007843400Z"
    }
   }
  },
  {
   "cell_type": "markdown",
   "source": [
    "#### 5. Indentation\n",
    "- A critical aspect of the language's syntax\n",
    "- Used to define blocks of code and control program flow"
   ],
   "metadata": {
    "collapsed": false
   }
  },
  {
   "cell_type": "code",
   "execution_count": 67,
   "outputs": [
    {
     "data": {
      "text/plain": "\"\\n test2 = 'IndentationError' # <-- IndentationError\\n\""
     },
     "execution_count": 67,
     "metadata": {},
     "output_type": "execute_result"
    }
   ],
   "source": [
    "test1 = 'test'\n",
    "'''\n",
    " test2 = 'IndentationError' # <-- IndentationError\n",
    "'''"
   ],
   "metadata": {
    "collapsed": false,
    "ExecuteTime": {
     "end_time": "2023-05-30T16:36:46.239842Z",
     "start_time": "2023-05-30T16:36:46.022344400Z"
    }
   }
  },
  {
   "cell_type": "markdown",
   "source": [
    "#### 6. Comments\n",
    "- Used to add explanatory or descriptive text within the source code\n",
    "- Types:\n",
    "    - Single-line comments\n",
    "    - Multi-line comments"
   ],
   "metadata": {
    "collapsed": false
   }
  },
  {
   "cell_type": "code",
   "execution_count": 68,
   "outputs": [
    {
     "data": {
      "text/plain": "'\\nThis is a multi-line comment.\\nIt can span multiple lines and is used to provide more detailed explanations.\\n'"
     },
     "execution_count": 68,
     "metadata": {},
     "output_type": "execute_result"
    }
   ],
   "source": [
    "# This is a comment\n",
    "\n",
    "\"\"\"\n",
    "This is a multi-line comment.\n",
    "It can span multiple lines and is used to provide more detailed explanations.\n",
    "\"\"\""
   ],
   "metadata": {
    "collapsed": false,
    "ExecuteTime": {
     "end_time": "2023-05-30T16:36:46.241842800Z",
     "start_time": "2023-05-30T16:36:46.037842400Z"
    }
   }
  },
  {
   "cell_type": "markdown",
   "source": [
    "#### 7. String Manipulation (f-Strings/ Subscripting)\n",
    "- f-Strings\n",
    "    - Begin with the letter 'f' and use curly braces {} to enclose expressions that will be evaluated at runtime\n",
    "-  Subscripting\n",
    "    - A string can be subscripted by using square brackets [] and the index or slice notation\n"
   ],
   "metadata": {
    "collapsed": false
   }
  },
  {
   "cell_type": "code",
   "execution_count": 69,
   "outputs": [
    {
     "name": "stdout",
     "output_type": "stream",
     "text": [
      "The cake is a 12 / 10\n"
     ]
    }
   ],
   "source": [
    "# Subscripting\n",
    "message = 'The cake is a lie.'\n",
    "out_of_context = message[4: 8]\n",
    "\n",
    "# f Strings\n",
    "print(f\"The {out_of_context} is a 12 / 10\")"
   ],
   "metadata": {
    "collapsed": false,
    "ExecuteTime": {
     "end_time": "2023-05-30T16:36:46.260960500Z",
     "start_time": "2023-05-30T16:36:46.053843Z"
    }
   }
  },
  {
   "cell_type": "markdown",
   "source": [
    "#### 8. Input Function\n",
    "- Used to take user input from the console\n",
    "- Prompts the user to enter some text\n",
    "- Waits for the user to enter the text and press enter"
   ],
   "metadata": {
    "collapsed": false
   }
  },
  {
   "cell_type": "code",
   "execution_count": 70,
   "outputs": [],
   "source": [
    "# name = input(\"Enter your name: \")\n",
    "# print(\"Hello,\", name)"
   ],
   "metadata": {
    "collapsed": false,
    "ExecuteTime": {
     "end_time": "2023-05-30T16:36:46.262469100Z",
     "start_time": "2023-05-30T16:36:46.068844600Z"
    }
   }
  },
  {
   "cell_type": "markdown",
   "source": [
    "#### 9. Type Conversion\n",
    "- Process of converting a value from one data type to another\n"
   ],
   "metadata": {
    "collapsed": false
   }
  },
  {
   "cell_type": "code",
   "execution_count": 71,
   "outputs": [
    {
     "name": "stdout",
     "output_type": "stream",
     "text": [
      "42\n",
      "<class 'int'>\n"
     ]
    }
   ],
   "source": [
    "x = '42'\n",
    "y = int(x)\n",
    "print(y)\n",
    "print(type(y))"
   ],
   "metadata": {
    "collapsed": false,
    "ExecuteTime": {
     "end_time": "2023-05-30T16:36:46.263343Z",
     "start_time": "2023-05-30T16:36:46.084842200Z"
    }
   }
  },
  {
   "cell_type": "markdown",
   "source": [
    "#### 10. Arithmetic and Assignment Operators\n",
    "| Operator | Name           | Example | Or         | Same as | Description                                                                  |\n",
    "|----------|----------------|---------|------------|---------|------------------------------------------------------------------------------|\n",
    "| +        | Addition       | 1 + 2   | x = x + 1  | x += 1  | adds two values together                                                     |\n",
    "| -        | Subtraction    | 1 - 2   | x = x - 1  | x -= 1  | subtracts one value from another                                             |\n",
    "| *        | Multiplication | 1 * 2   | x = x * 1  | x *= 2  | multiplies two values together                                               |\n",
    "| /        | Division       | 1 / 2   | x = x / 2  | x /= 2  | divides one value by another, and returns a float result                     |\n",
    "| //       | Floor Division | 1 // 2  | x = x // 2 | x //= 2 | divides one value by another, and returns an integer result by rounding down |\n",
    "| %        | Modulus        | 1 % 2   | x = x % 2  | x %= 2  | returns the remainder of a division operation                                |\n",
    "| **       | Exponentiation | 2 ** 2  | x = x ** 2 | x **= 2 | raises one value to the power of another                                     |"
   ],
   "metadata": {
    "collapsed": false
   }
  },
  {
   "cell_type": "code",
   "execution_count": 72,
   "outputs": [
    {
     "name": "stdout",
     "output_type": "stream",
     "text": [
      "5\n",
      "3.3333333333333335\n",
      "3\n",
      "1\n",
      "8\n"
     ]
    }
   ],
   "source": [
    "print(2 + 3)  # Output: 5\n",
    "print(10 / 3)  # Output: 3.3333333333333335\n",
    "print(10 // 3)  # Output: 3\n",
    "print(10 % 3)  # Output: 1\n",
    "print(2 ** 3)  # Output: 8 x = 1, y = 2, z = 3"
   ],
   "metadata": {
    "collapsed": false,
    "ExecuteTime": {
     "end_time": "2023-05-30T16:36:46.263343Z",
     "start_time": "2023-05-30T16:36:46.100844200Z"
    }
   }
  },
  {
   "cell_type": "markdown",
   "source": [
    "#### 11. Comparison and Logical Operators\n",
    "###### x = 1, y = 2\n",
    "| Operator | Name                    | Example   | Description                                                             |\n",
    "|----------|-------------------------|-----------|-------------------------------------------------------------------------|\n",
    "| ==       | Equal                   | x == y -1 | Returns True if the statement is true, otherwise False                  |\n",
    "| !=       | Not Equal               | x != y    | Returns True if the statement is true, otherwise False                  |\n",
    "| >        | Greater than            | y > x     | Returns True if the statement is true, otherwise False                  |\n",
    "| >=       | Less than               | y >= x    | Returns True if the statement is true, otherwise False                  |\n",
    "| <        | Greater than or eqal to | x < y     | Returns True if the statement is true, otherwise False                  |\n",
    "| <=       | Less than or equal to   | x <= y    | Returns True if the statement is true, otherwise False                  |\n",
    "| and      | Exponentiation          | 2 ** 2    | Returns True if both statements are true, otherwise False               |\n",
    "| or       | Exponentiation          | 2 ** 2    | Returns True if one of the statements is true, otherwise False          |\n",
    "| not      | Exponentiation          | 2 ** 2    | Reverse the result, returns False if the result is true, otherwise True |"
   ],
   "metadata": {
    "collapsed": false
   }
  },
  {
   "cell_type": "code",
   "execution_count": 73,
   "outputs": [
    {
     "name": "stdout",
     "output_type": "stream",
     "text": [
      "False\n",
      "True\n",
      "True\n"
     ]
    }
   ],
   "source": [
    "x = 1\n",
    "y = 2\n",
    "print(x == y)  # Output: False\n",
    "print(x <= y)  # Output: True\n",
    "print(x == y or y >= 2)  # Output: True\n"
   ],
   "metadata": {
    "collapsed": false,
    "ExecuteTime": {
     "end_time": "2023-05-30T16:36:46.263922500Z",
     "start_time": "2023-05-30T16:36:46.116845100Z"
    }
   }
  },
  {
   "cell_type": "markdown",
   "source": [
    "#### 12. Conditional statements\n",
    "- if, elif and else are used to execute different blocks of code based on the evaluation of multiple conditions"
   ],
   "metadata": {
    "collapsed": false
   }
  },
  {
   "cell_type": "code",
   "execution_count": 74,
   "outputs": [
    {
     "name": "stdout",
     "output_type": "stream",
     "text": [
      "Counting ...\n"
     ]
    }
   ],
   "source": [
    "if x + y == 1:\n",
    "    print('Check again!')\n",
    "elif x + y == 42:\n",
    "    print('The answer is 42')\n",
    "else:\n",
    "    print('Counting ...')"
   ],
   "metadata": {
    "collapsed": false,
    "ExecuteTime": {
     "end_time": "2023-05-30T16:36:46.264343800Z",
     "start_time": "2023-05-30T16:36:46.131842700Z"
    }
   }
  },
  {
   "cell_type": "markdown",
   "source": [
    "#### 13. Functions\n",
    "- A block of code that performs a specific task\n",
    "- Help you break down large programs into smaller, more manageable pieces\n",
    "- Can have a return value"
   ],
   "metadata": {
    "collapsed": false
   }
  },
  {
   "cell_type": "code",
   "execution_count": 75,
   "outputs": [
    {
     "name": "stdout",
     "output_type": "stream",
     "text": [
      "17\n",
      "None\n",
      "17\n"
     ]
    }
   ],
   "source": [
    "def add_numbers1(a, b):\n",
    "    print(a + b)\n",
    "\n",
    "\n",
    "def add_numbers2(a, b):\n",
    "    result = a + b\n",
    "    return result\n",
    "\n",
    "\n",
    "print(add_numbers1(10, 7))\n",
    "print(add_numbers2(10, 7))"
   ],
   "metadata": {
    "collapsed": false,
    "ExecuteTime": {
     "end_time": "2023-05-30T16:36:46.264343800Z",
     "start_time": "2023-05-30T16:36:46.147343600Z"
    }
   }
  },
  {
   "cell_type": "markdown",
   "source": [
    "#### 14. Scope (Local and Global Variables)\n",
    "- A variable's scope refers to the region of the program where that variable is accessible\n",
    "- Local Scope\n",
    "    - Defined inside a function\n",
    "    - Only accessible within that function\n",
    "- Global Scope\n",
    "    - Defined outside any function\n",
    "    - Accessible from anywhere in the program"
   ],
   "metadata": {
    "collapsed": false
   }
  },
  {
   "cell_type": "code",
   "execution_count": 76,
   "outputs": [
    {
     "name": "stdout",
     "output_type": "stream",
     "text": [
      "Hello there\n",
      "General Kenobi\n"
     ]
    }
   ],
   "source": [
    "def my_usless_print_function():\n",
    "    msg = \"Hello there\"  # <- Local scope\n",
    "    print(msg)\n",
    "\n",
    "\n",
    "answer = \"General Kenobi\"  # <- Global scope\n",
    "\n",
    "\n",
    "def my_other_usless_function():\n",
    "    print(answer)\n",
    "\n",
    "\n",
    "my_usless_print_function()\n",
    "my_other_usless_function()"
   ],
   "metadata": {
    "collapsed": false,
    "ExecuteTime": {
     "end_time": "2023-05-30T16:36:46.264343800Z",
     "start_time": "2023-05-30T16:36:46.162342600Z"
    }
   }
  },
  {
   "cell_type": "markdown",
   "source": [],
   "metadata": {
    "collapsed": false
   }
  },
  {
   "cell_type": "markdown",
   "source": [
    "#### 15. Loops\n",
    "- Executes a block of code repeatedly\n",
    "- For loop\n",
    "    - Used to iterate over a sequence (such as a list, tuple, or string)\n",
    "- While loop\n",
    "    - Used to execute a block of code repeatedly as long as a certain condition is true"
   ],
   "metadata": {
    "collapsed": false
   }
  },
  {
   "cell_type": "code",
   "execution_count": 77,
   "outputs": [
    {
     "name": "stdout",
     "output_type": "stream",
     "text": [
      "L\n",
      "O\n",
      "O\n",
      "P\n",
      "5\n"
     ]
    }
   ],
   "source": [
    "chars = ['L', 'O', 'O', 'P']\n",
    "for char in chars:\n",
    "    print(char)\n",
    "\n",
    "i = 0\n",
    "total = -1\n",
    "while i < 4:\n",
    "    total += i\n",
    "    i += 1\n",
    "print(total)"
   ],
   "metadata": {
    "collapsed": false,
    "ExecuteTime": {
     "end_time": "2023-05-30T16:36:46.264844200Z",
     "start_time": "2023-05-30T16:36:46.177842Z"
    }
   }
  },
  {
   "cell_type": "markdown",
   "source": [
    "#### 16. Sequence types\n",
    "- Used to represent a collection of ordered and indexed items\n",
    "- Lists\n",
    "    - Mutable and ordered\n",
    "- Tuples\n",
    "    - Immutable and ordered\n",
    "- Sets\n",
    "    - Mutable and unordered\n",
    "    - Do not allow duplicate elements\n",
    "- Dictionary\n",
    "    - Mutable and unordered\n",
    "    - Collections of key-value pairs\n",
    "- Mutable means that you can add, remove, or change elements in the list\n",
    "- Immutable means that their values cannot be changed once they are assigned\n",
    "- Ordered means that the position of each element is significant. For example, in a list, the first element is at index 0, the second element is at index 1, and so on.\n",
    "- Unordered means that the elements are not arranged in a specific order, and you cannot use indexes to access or change the elements in a set."
   ],
   "metadata": {
    "collapsed": false
   }
  },
  {
   "cell_type": "code",
   "execution_count": 78,
   "outputs": [
    {
     "name": "stdout",
     "output_type": "stream",
     "text": [
      "[1, 2, 3, 5.0, 6]\n",
      "3\n",
      "{1, 3, 4}\n",
      "{'brand': 'Hyundai', 'model': 'N Vision 74'}\n"
     ]
    }
   ],
   "source": [
    "# List\n",
    "my_list = [1, 2, 3, 'four', 5.0]\n",
    "my_list.append(6)\n",
    "my_list.remove('four')\n",
    "print(my_list)\n",
    "\n",
    "# Tuples\n",
    "my_tuple = (1, 2, 3, 'four', 5.0)\n",
    "print(my_tuple[2])\n",
    "\n",
    "# Set\n",
    "my_set = {1, 2, 3}\n",
    "my_set.add(4)\n",
    "my_set.remove(2)\n",
    "print(my_set)\n",
    "\n",
    "# Dictionary\n",
    "my_dict = {\n",
    "    \"brand\": \"Hyundai\",\n",
    "    \"model\": \"N Vision 74\"\n",
    "}\n",
    "print(my_dict)"
   ],
   "metadata": {
    "collapsed": false,
    "ExecuteTime": {
     "end_time": "2023-05-30T16:36:46.264844200Z",
     "start_time": "2023-05-30T16:36:46.192843500Z"
    }
   }
  },
  {
   "cell_type": "markdown",
   "source": [
    "#### 17. Build-In Modules\n",
    "- Files that contain functions, classes, variables and other objects\n",
    "- Used to organize code and make it easier to reuse and share\n",
    "- Some useful build in modules:\n",
    "- Random\n",
    "    - Provides functions for generating random numbers and selecting random items from a sequence.\n",
    "- Time module\n",
    "    - Provides functions for working with time-related tasks\n",
    "- Datetime\n",
    "    - Provides classes for working with dates and times, including formatting and parsing dates in various formats.\n",
    "- OS\n",
    "    - Provides functions for working with the operating system, including interacting with the file system and environment variables."
   ],
   "metadata": {
    "collapsed": false
   }
  },
  {
   "cell_type": "code",
   "execution_count": 79,
   "outputs": [
    {
     "name": "stdout",
     "output_type": "stream",
     "text": [
      "Your lucky number is: 32\n",
      "It was the 2023-05-30 18:36:46.208841\n",
      "The files in this directory are: ['.git', '1. Beginner', '2. Intermediate', '3. Advanced', 'Documentation.ipynb', 'README.md']\n",
      "Elapsed time: 0.00042450008913874626 seconds\n"
     ]
    }
   ],
   "source": [
    "# Time module\n",
    "import time\n",
    "\n",
    "start_time = time.perf_counter()\n",
    "\n",
    "# Random module\n",
    "import random\n",
    "\n",
    "print(f\"Your lucky number is: {random.randint(0, 100)}\")\n",
    "\n",
    "# Datetime module\n",
    "import datetime\n",
    "\n",
    "print(f\"It was the {datetime.datetime.now()}\")\n",
    "\n",
    "# OS module\n",
    "import os\n",
    "\n",
    "print(f\"The files in this directory are: {os.listdir()}\")\n",
    "\n",
    "# Time module\n",
    "end_time = time.perf_counter()\n",
    "elapsed_time = end_time - start_time\n",
    "print(f\"Elapsed time: {elapsed_time} seconds\")"
   ],
   "metadata": {
    "collapsed": false,
    "ExecuteTime": {
     "end_time": "2023-05-30T16:36:46.265844500Z",
     "start_time": "2023-05-30T16:36:46.208841900Z"
    }
   }
  },
  {
   "cell_type": "markdown",
   "source": [
    "#### 18. Other Build-In Functions\n",
    "- Len Function\n",
    "    - Returns the length of an object, such as a string or list\n",
    "- Count function\n",
    "    - Returns the number of occurrences of a specific element in a given sequence or string\n",
    "- Range Function\n",
    "    - Generates a sequence of numbers, usually used in loops\n",
    "- Max Function\n",
    "    - Returns the largest item in an iterable or the largest of two or more arguments\n",
    "- Min Function\n",
    "    - Returns the smallest item in an iterable or the smallest of two or more arguments\n",
    "- Sum Function\n",
    "    - Returns the sum of all items in an iterable\n",
    "- Sorted Function\n",
    "    - Returns a sorted list from an iterable\n",
    "- Reversed Function\n",
    "    - Returns a reversed iterator of an iterable.\n"
   ],
   "metadata": {
    "collapsed": false
   }
  },
  {
   "cell_type": "code",
   "execution_count": 80,
   "outputs": [
    {
     "name": "stdout",
     "output_type": "stream",
     "text": [
      "34\n",
      "1\n",
      "3\n",
      "777\n",
      "17\n",
      "2057\n",
      "[17, 42, 555, 666, 777]\n"
     ]
    }
   ],
   "source": [
    "common_word = 'supercalifragilisticexpialidocious'\n",
    "# Len function\n",
    "print(len(common_word))  # Output: 34\n",
    "\n",
    "# Count function\n",
    "print(common_word.count('x'))  # Output: 1\n",
    "\n",
    "#- Range function\n",
    "# The first parameter is the start parameter (optional, default=0)\n",
    "# The second is the stop parameter (required)\n",
    "# The third is the step parameter (optional, default=1)\n",
    "total = 0\n",
    "for number in range(3, 7, 5):\n",
    "    total += number\n",
    "print(total)  # Output: 3\n",
    "\n",
    "numbers = [666, 17, 555, 42, 777]\n",
    "\n",
    "# Max function\n",
    "print(max(numbers))  # Output: 777\n",
    "\n",
    "# Min function\n",
    "print(min(numbers))  # Output: 17\n",
    "\n",
    "# Sum function\n",
    "print(sum(numbers))  # Output: 2057\n",
    "\n",
    "# Sorted function\n",
    "print(sorted(numbers))"
   ],
   "metadata": {
    "collapsed": false,
    "ExecuteTime": {
     "end_time": "2023-05-30T16:36:46.266343500Z",
     "start_time": "2023-05-30T16:36:46.227346500Z"
    }
   }
  },
  {
   "cell_type": "markdown",
   "source": [
    "## Intermediate\n",
    "#### Content:\n",
    "1. Classes and Objects\n",
    "2. Turtles Module\n",
    "3. Tkinter Module\n",
    "4. Open Function\n",
    "5. Pandas Library\n",
    "6. Exception Handling"
   ],
   "metadata": {
    "collapsed": false
   }
  },
  {
   "cell_type": "markdown",
   "source": [
    "#### 1. Classes and Objects\n",
    "- An object is an instance of a class\n",
    "- A class is a blueprint for creating objects\n",
    "- A class defines the behavior and properties of an object\n",
    "- The constructor initializes the object and sets its initial values\n",
    "- The constructor takes at least one argument, self, which refers to the object of the class that is being created\n",
    "- You can create multiple objects (instances) of a class"
   ],
   "metadata": {
    "collapsed": false
   }
  },
  {
   "cell_type": "code",
   "execution_count": 81,
   "outputs": [
    {
     "name": "stdout",
     "output_type": "stream",
     "text": [
      "Twilight the rainbow-colored unicorn is soaring through the sky!\n"
     ]
    }
   ],
   "source": [
    "class Unicorn:  # <-- Class\n",
    "    def __init__(self, name, color):  # <-- Constructor\n",
    "        self.name = name\n",
    "        self.color = color\n",
    "\n",
    "    def fly(self):\n",
    "        print(f\"{self.name} the {self.color} unicorn is soaring through the sky!\")\n",
    "\n",
    "\n",
    "twilight = Unicorn(\"Twilight\", \"rainbow-colored\")  # <-- Object\n",
    "twilight.fly()"
   ],
   "metadata": {
    "collapsed": false,
    "ExecuteTime": {
     "end_time": "2023-05-30T16:36:46.423342900Z",
     "start_time": "2023-05-30T16:36:46.240344800Z"
    }
   }
  },
  {
   "cell_type": "markdown",
   "source": [
    "#### 2. Turtles Module\n",
    "- A simple and interactive way to create graphics and animations using a virtual turtle\n",
    "- A turtle object can move around in a window or canvas and draw shapes\n",
    "- It supports a variety of shapes for the turtle, including classic arrow shapes and custom images\n",
    "- It also includes functions for drawing geometric shapes such as circles, squares, triangles and polygons\n",
    "- https://docs.python.org/3/library/turtle.html (Well documented)\n",
    "- For detailed examples, refer to days 18 to 25"
   ],
   "metadata": {
    "collapsed": false
   }
  },
  {
   "cell_type": "markdown",
   "source": [
    "#### 3. Tkinter Module\n",
    "- A module for creating graphical user interfaces (GUIs)\n",
    "- It provides a set of tools and widgets that allow you to create windows, buttons, text boxes, menus and other interactive elements\n",
    "- Provides layout managers like pack(), grid(), and place() to arrange and position widgets within containers\n",
    "- https://docs.python.org/3/library/tk.html (It's better if you directly Google what you want to know)\n",
    "- For detailed examples, refer to days 27 and 28"
   ],
   "metadata": {
    "collapsed": false
   }
  },
  {
   "cell_type": "markdown",
   "source": [
    "#### 4. Open Function\n",
    "- Used to open files for reading, writing, or appending data.\n",
    "- Takes a filename (along with the path, if necessary) and a mode parameter as its arguments\n",
    "- The mode parameter specifies the purpose of opening the file, such as reading ('r'), writing ('w'), or appending ('a')\n",
    "- By default, if no mode is specified, the file is opened in read mode ('r')\n",
    "- Once a file is opened using open(), you can perform operations like reading, writing, or appending data to it.\n",
    "- It is important to close the file after you are done with it, using the close() method\n",
    "- For detailed examples, refer to day 24"
   ],
   "metadata": {
    "collapsed": false
   }
  },
  {
   "cell_type": "code",
   "execution_count": 82,
   "outputs": [
    {
     "ename": "FileNotFoundError",
     "evalue": "[Errno 2] No such file or directory: 'example.txt'",
     "output_type": "error",
     "traceback": [
      "\u001B[1;31m---------------------------------------------------------------------------\u001B[0m",
      "\u001B[1;31mFileNotFoundError\u001B[0m                         Traceback (most recent call last)",
      "Cell \u001B[1;32mIn[82], line 3\u001B[0m\n\u001B[0;32m      1\u001B[0m \u001B[38;5;66;03m# Open the file in read mode\u001B[39;00m\n\u001B[0;32m      2\u001B[0m file_path \u001B[38;5;241m=\u001B[39m \u001B[38;5;124m'\u001B[39m\u001B[38;5;124mexample.txt\u001B[39m\u001B[38;5;124m'\u001B[39m  \u001B[38;5;66;03m# Insert path file here\u001B[39;00m\n\u001B[1;32m----> 3\u001B[0m file \u001B[38;5;241m=\u001B[39m \u001B[38;5;28;43mopen\u001B[39;49m\u001B[43m(\u001B[49m\u001B[43mfile_path\u001B[49m\u001B[43m,\u001B[49m\u001B[43m \u001B[49m\u001B[38;5;124;43m'\u001B[39;49m\u001B[38;5;124;43mr\u001B[39;49m\u001B[38;5;124;43m'\u001B[39;49m\u001B[43m)\u001B[49m\n\u001B[0;32m      5\u001B[0m \u001B[38;5;66;03m# Read the contents of the file\u001B[39;00m\n\u001B[0;32m      6\u001B[0m file_contents \u001B[38;5;241m=\u001B[39m file\u001B[38;5;241m.\u001B[39mread()\n",
      "File \u001B[1;32m~\\AppData\\Local\\Programs\\Python\\Python310\\lib\\site-packages\\IPython\\core\\interactiveshell.py:284\u001B[0m, in \u001B[0;36m_modified_open\u001B[1;34m(file, *args, **kwargs)\u001B[0m\n\u001B[0;32m    277\u001B[0m \u001B[38;5;28;01mif\u001B[39;00m file \u001B[38;5;129;01min\u001B[39;00m {\u001B[38;5;241m0\u001B[39m, \u001B[38;5;241m1\u001B[39m, \u001B[38;5;241m2\u001B[39m}:\n\u001B[0;32m    278\u001B[0m     \u001B[38;5;28;01mraise\u001B[39;00m \u001B[38;5;167;01mValueError\u001B[39;00m(\n\u001B[0;32m    279\u001B[0m         \u001B[38;5;124mf\u001B[39m\u001B[38;5;124m\"\u001B[39m\u001B[38;5;124mIPython won\u001B[39m\u001B[38;5;124m'\u001B[39m\u001B[38;5;124mt let you open fd=\u001B[39m\u001B[38;5;132;01m{\u001B[39;00mfile\u001B[38;5;132;01m}\u001B[39;00m\u001B[38;5;124m by default \u001B[39m\u001B[38;5;124m\"\u001B[39m\n\u001B[0;32m    280\u001B[0m         \u001B[38;5;124m\"\u001B[39m\u001B[38;5;124mas it is likely to crash IPython. If you know what you are doing, \u001B[39m\u001B[38;5;124m\"\u001B[39m\n\u001B[0;32m    281\u001B[0m         \u001B[38;5;124m\"\u001B[39m\u001B[38;5;124myou can use builtins\u001B[39m\u001B[38;5;124m'\u001B[39m\u001B[38;5;124m open.\u001B[39m\u001B[38;5;124m\"\u001B[39m\n\u001B[0;32m    282\u001B[0m     )\n\u001B[1;32m--> 284\u001B[0m \u001B[38;5;28;01mreturn\u001B[39;00m io_open(file, \u001B[38;5;241m*\u001B[39margs, \u001B[38;5;241m*\u001B[39m\u001B[38;5;241m*\u001B[39mkwargs)\n",
      "\u001B[1;31mFileNotFoundError\u001B[0m: [Errno 2] No such file or directory: 'example.txt'"
     ]
    }
   ],
   "source": [
    "# Open the file in read mode\n",
    "file_path = 'example.txt'  # <-- Insert path file there\n",
    "file = open(file_path, 'r')\n",
    "\n",
    "# Read the contents of the file\n",
    "file_contents = file.read()\n",
    "\n",
    "# Close the file\n",
    "file.close()\n",
    "\n",
    "# Print the contents\n",
    "print(file_contents)"
   ],
   "metadata": {
    "collapsed": false,
    "ExecuteTime": {
     "end_time": "2023-05-30T16:36:46.443842600Z",
     "start_time": "2023-05-30T16:36:46.257345700Z"
    }
   }
  },
  {
   "cell_type": "markdown",
   "source": [
    "#### 5. Pandas Library\n",
    "- A powerful library for data manipulation and analysis\n",
    "- Provides data structures and functions for efficiently handling and processing structured data\n",
    "- Pandas introduce two main data structures: Series and DataFrame\n",
    "- Series is a one-dimensional labeled array capable of holding any data type\n",
    "- DataFrame is a two-dimensional labeled data structure with columns of potentially different data types\n",
    "- Pandas allows you to read data from various file formats such as CSV, Excel, SQL databases, and more\n",
    "- It provides functionalities for cleaning and transforming data, including handling missing values, filtering, sorting, and aggregating data\n",
    "- For detailed examples, refer to days 25 and 26"
   ],
   "metadata": {
    "collapsed": false
   }
  },
  {
   "cell_type": "markdown",
   "source": [
    "#### 6. Exception Handling\n",
    "- A mechanism used to handle and manage errors that occur during program execution\n",
    "- Allows you to anticipate and respond to exceptional situations\n",
    "- Prevents the program from abruptly terminating"
   ],
   "metadata": {
    "collapsed": false
   }
  },
  {
   "cell_type": "code",
   "execution_count": null,
   "outputs": [],
   "source": [
    "try:\n",
    "    # Code block where an exception might occur\n",
    "    pass\n",
    "except IndexError:\n",
    "    # Handler for ExceptionType1 (doesn't have to be an IndexError)\n",
    "    pass\n",
    "except KeyError:\n",
    "    # Handler for ExceptionType2 (doesn't have to be a KeyError)\n",
    "    pass\n",
    "else:\n",
    "    # Optional block that executes if no exceptions are raised\n",
    "    pass\n",
    "finally:\n",
    "    # Optional block that always executes, regardless of exceptions\n",
    "    pass"
   ],
   "metadata": {
    "collapsed": false,
    "ExecuteTime": {
     "start_time": "2023-05-30T16:36:46.285842300Z"
    }
   }
  },
  {
   "cell_type": "markdown",
   "source": [
    "## Avanced\n",
    "#### Content:\n",
    "1. APIs\n",
    "2. HTML\n",
    "3. CSS"
   ],
   "metadata": {
    "collapsed": false
   }
  },
  {
   "cell_type": "markdown",
   "source": [
    "#### 1. APIs\n",
    "- APIs (Application Programming Interfaces) are sets of rules and protocols that allow different software applications to communicate and interact with each other.\n",
    "- APIs are commonly used to access and manipulate data from external sources, such as web services, databases, and other applications.\n",
    "- Python provides various libraries and frameworks that simplify the process of working with APIs, such as requests, urllib, and asyncio.\n",
    "- APIs can be used for a wide range of purposes, such as retrieving weather data, accessing social media platforms, integrating payment gateways, or even controlling hardware devices.\n",
    "- Proper authentication and error handling are important aspects of working with APIs in Python, ensuring secure and reliable communication with external services.\n",
    "- To use an API in Python:\n",
    "    1. Send HTTP requests to a specific endpoint provided by the API, along with any required parameters or data.\n",
    "    2. The API then processes the request and returns a response, usually in a structured format like JSON or XML. Python's requests library is often used to handle HTTP requests and responses, making it easier to interact with APIs.\n",
    "    3. The response from an API can contain various information or resources, which can be extracted and used in Python programs.\n",
    "- For detailed examples, refer to day 32 to 40\n"
   ],
   "metadata": {
    "collapsed": false
   }
  },
  {
   "cell_type": "code",
   "execution_count": null,
   "outputs": [],
   "source": [
    "import requests\n",
    "\n",
    "# API endpoint and API key\n",
    "url = \"https://api.openweathermap.org/data/2.5/weather\"\n",
    "api_key = \"your_api_key_here\"\n",
    "\n",
    "# Parameters for the API request\n",
    "city = \"London\"\n",
    "params = {\n",
    "    \"q\": city,\n",
    "    \"appid\": api_key,\n",
    "    \"units\": \"metric\"\n",
    "}\n",
    "\n",
    "# Sending a GET request to the API\n",
    "response = requests.get(url, params=params)\n",
    "\n",
    "# Checking if the request was successful (status code 200)\n",
    "if response.status_code == 200:\n",
    "    # Extracting the weather data from the response\n",
    "    data = response.json()\n",
    "\n",
    "    # Accessing specific information from the data\n",
    "    temperature = data[\"main\"][\"temp\"]\n",
    "    humidity = data[\"main\"][\"humidity\"]\n",
    "\n",
    "    # Displaying the weather information\n",
    "    print(f\"The temperature in {city} is {temperature}°C with {humidity}% humidity.\")\n",
    "else:\n",
    "    # Handling error cases\n",
    "    print(\"Error occurred while fetching weather data.\")\n",
    "\n"
   ],
   "metadata": {
    "collapsed": false,
    "ExecuteTime": {
     "start_time": "2023-05-30T16:36:46.286842400Z"
    }
   }
  },
  {
   "cell_type": "markdown",
   "source": [
    "#### 2. HTML\n",
    "- HTML stands for Hypertext Markup Language.\n",
    "- It is the standard markup language used for creating web pages and applications.\n",
    "- HTML uses a set of tags to structure the content and define the elements on a web page.\n",
    "- Tags are enclosed in angle brackets (<>) and are typically paired with an opening tag and a closing tag.\n",
    "- HTML tags describe the type and purpose of the content they enclose, such as headings, paragraphs, links, images, and more.\n",
    "- HTML documents are structured as a tree-like hierarchy, with the \\<html> tag as the root and other tags nested within it.\n",
    "- HTML documents consist of two main sections: the head and the body.\n",
    "    - The head section contains metadata and information about the document, such as the title, character encoding, and linked stylesheets or scripts.\n",
    "    - The body section contains the visible content of the web page, including text, images, links, and other media.\n",
    "- HTML supports various attributes within tags to provide more information or capability.\n",
    "- For detailed examples, refer to day 40 and 41"
   ],
   "metadata": {
    "collapsed": false
   }
  },
  {
   "cell_type": "markdown",
   "source": [
    "<!DOCTYPE html>\n",
    "<html>\n",
    "<head>\n",
    "    <title>My First Webpage</title>\n",
    "</head>\n",
    "<body>\n",
    "    <h1>Welcome to My Webpage!</h1>\n",
    "    <p>This is a sample paragraph.</p>\n",
    "</body>\n",
    "</html>"
   ],
   "metadata": {
    "collapsed": false
   }
  },
  {
   "cell_type": "markdown",
   "source": [
    "#### 2. CSS\n",
    "- CSS stands for Cascading Style Sheets and is a styling language used to describe the look and formatting of a document written in HTML or XML.\n",
    "- It allows web designers and developers to separate the presentation of a web page from its structure and content.\n",
    "- CSS works by applying styles to HTML elements, such as fonts, colors, spacing, layout, and more.\n",
    "- Styles can be specified directly in the HTML file using the \\<style> tag or in an external CSS file that is linked to the HTML document using the \\<link> tag.\n",
    "- CSS uses selectors to target specific HTML elements that should receive a particular style or set of styles.\n",
    "- Selectors can target elements based on their tag name, class, ID, attributes, and hierarchical relationships with other elements.\n",
    "- CSS properties determine the visual appearance of the selected elements, and they can be assigned values such as colors, sizes, margins, paddings, and positioning.\n",
    "- CSS provides various techniques for controlling the layout of web pages, including using floats, positioning, flexbox, and grid systems.\n",
    "- For detailed example, refer to day 43"
   ],
   "metadata": {
    "collapsed": false
   }
  },
  {
   "cell_type": "markdown",
   "source": [
    "## Glossary\n",
    "#### A:\n",
    "- Arithmetic Operators | Beginner 10.\n",
    "- Assignment Operators | Beginner 10.\n",
    "#### B:\n",
    "- Boolean (Primitive Data Types) | Beginner 3.\n",
    "- Build-In Modules | Beginner 17.\n",
    "#### C:\n",
    "- Casting | Beginner 9.\n",
    "- Classes and Objects | Intermediate 1.\n",
    "- Comments | Beginner 6.\n",
    "- Comparison Operators | Beginner 11.\n",
    "- Conditional statements | Beginner 12.\n",
    "- Constuctor (Classes and Objects) | Intermediate 1.\n",
    "- Count function (Other Build-In Functions) | Beginner 18.\n",
    "#### D:\n",
    "- Data Types (Primitive) | Beginner 3.\n",
    "- Datetime module (Build-In Modules) | Beginner 17.\n",
    "- Dictionary (Sequence types) | Beginner 16.\n",
    "#### E:\n",
    "- Exception Handling | Intermediate 6.\n",
    "#### F:\n",
    "- f-String (String Manipulation) | Beginner 7.\n",
    "- Float (Primitive Data Types) | Beginner 3.\n",
    "- For-Loops | Beginner 15.\n",
    "- Functions | Beginner 13.\n",
    "#### G:\n",
    "- Global Variables (Scope) | Beginner 14.\n",
    "#### H:\n",
    "#### I:\n",
    "- If (Conditional statements) | Beginner 12.\n",
    "- Indentation | Beginner 5.\n",
    "- Input function | Beginner 8.\n",
    "- Instance (Classes and Objects) | Intermediate 1.\n",
    "- Integer (Primitive Data Types) | Beginner 3.\n",
    "#### J:\n",
    "#### K:\n",
    "#### L:\n",
    "- Len function (Other Build-In Functions) | Beginner 18.\n",
    "- Lists (Sequence types) | Beginner 16.\n",
    "- Local Variables (Scope) | Beginner 14.\n",
    "- Logical Operators | Beginner 11.\n",
    "- Loops | Beginner 15.\n",
    "#### M:\n",
    "- Max function (Other Build-In Functions) | Beginner 18.\n",
    "- Min function (Other Build-In Functions) | Beginner 18.\n",
    "#### N:\n",
    "#### O:\n",
    "- Open Function | Intermediate 4.\n",
    "- Operators (Arithmetic and Assignment) | Beginner 10.\n",
    "- Operators (Comparison and Logical) | Beginner 11.\n",
    "- OS module (Build-In Modules) | Beginner 17.\n",
    "#### P:\n",
    "- Pandas Library | Intermediate 5.\n",
    "- Primitive Data Types  | Beginner 3.\n",
    "- Print Function | Beginner 1.\n",
    "#### Q:\n",
    "- Quotes | Beginner 4.\n",
    "#### R:\n",
    "- Random module (Build-In Modules) | Beginner 17.\n",
    "- Range function (Other Build-In Functions) | Beginner 18.\n",
    "- Reversed function (Other Build-In Functions) | Beginner 18.\n",
    "#### S:\n",
    "- Scope (Local and Global Variables) | Beginner 14.\n",
    "- Sequence types | Beginner 16.\n",
    "- Sets (Sequence types) | Beginner 16.\n",
    "- Sorted function (Other Build-In Functions) | Beginner 18.\n",
    "- String (Primitive Data Types) | Beginner 3.\n",
    "- String Manipulation | Beginner 7.\n",
    "- Subscripting (String Manipulation) | Beginner 7.\n",
    "- Sum function (Other Build-In Functions) | Beginner 18.\n",
    "#### T:\n",
    "- Time module (Build-In Modules) | Beginner 17.\n",
    "- Tkinter Module | Intermediate 3.\n",
    "- Try (Exception Handling) | Intermediate 6.\n",
    "- Tuples (Sequence types) | Beginner 16.\n",
    "- Turtles Module | Intermediate 2.\n",
    "- Type Conversion | Beginner 9.\n",
    "#### U:\n",
    "#### V:\n",
    "- Variables | Beginner 2.\n",
    "#### W:\n",
    "- While-Loops | Beginner 15.\n",
    "#### X:\n",
    "#### Y:\n",
    "#### Z:"
   ],
   "metadata": {
    "collapsed": false
   }
  }
 ],
 "metadata": {
  "kernelspec": {
   "display_name": "Python 3",
   "language": "python",
   "name": "python3"
  },
  "language_info": {
   "codemirror_mode": {
    "name": "ipython",
    "version": 3
   },
   "file_extension": ".py",
   "mimetype": "text/x-python",
   "name": "python",
   "nbconvert_exporter": "python",
   "pygments_lexer": "ipython3",
   "version": "3.10.9"
  },
  "orig_nbformat": 4
 },
 "nbformat": 4,
 "nbformat_minor": 2
}
