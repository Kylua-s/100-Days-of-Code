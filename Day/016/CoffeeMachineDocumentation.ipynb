{
 "cells": [
  {
   "cell_type": "markdown",
   "source": [
    "MenuItem Class\n",
    "- Attributes:\n",
    "    - name\n",
    "    (str) The name of the drink.\n",
    "    e.g. “latte”\n",
    "    - cost\n",
    "    (float) The price of the drink.\n",
    "    e.g 1.5\n",
    "    - ingredients\n",
    "    (dictionary) The ingredients and amounts required to make the drink.\n",
    "    e.g. {“water”: 100, “coffee”: 16}\n",
    "\n",
    "Menu Class\n",
    "- Methods:\n",
    "    - get_items()\n",
    "    Returns all the names of the available menu items as a concatenated string.\n",
    "    e.g. “latte/espresso/cappuccino”\n",
    "    - find_drink(order_name)\n",
    "    Parameter order_name: (str) The name of the drinks order.\n",
    "    Search the menu for a particular drink by name. Returns a MenuItem object if it exists,\n",
    "    otherwise returns None.\n",
    "\n",
    "CoffeeMaker Class\n",
    "- Methods:\n",
    "    - report()\n",
    "    Prints a report of all resources.\n",
    "    e.g.\n",
    "    Water: 300ml\n",
    "    Milk: 200ml\n",
    "    Coffee: 100g\n",
    "    - is_resource_sufficient(drink)\n",
    "    Parameter drink: (MenuItem) The MenuItem object to make.\n",
    "    Returns True when the drink order can be made, False if ingredients are insufficient.\n",
    "    e.g.\n",
    "    True\n",
    "    - make_coffee(order)\n",
    "    Parameter order: (MenuItem) The MenuItem object to make.\n",
    "    Deducts the required ingredients from the resources.\n",
    "\n",
    "MoneyMachine Class\n",
    "- Methods:\n",
    "    - report()\n",
    "    Prints the current profit\n",
    "    e.g.\n",
    "    Money: $0\n",
    "    - make_payment(cost)\n",
    "    Parameter cost: (float) The cost of the drink.\n",
    "    Returns True when payment is accepted, or False if insufficient.\n",
    "    e.g., False"
   ],
   "metadata": {
    "collapsed": false
   }
  }
 ],
 "metadata": {
  "kernelspec": {
   "display_name": "Python 3",
   "language": "python",
   "name": "python3"
  },
  "language_info": {
   "codemirror_mode": {
    "name": "ipython",
    "version": 2
   },
   "file_extension": ".py",
   "mimetype": "text/x-python",
   "name": "python",
   "nbconvert_exporter": "python",
   "pygments_lexer": "ipython2",
   "version": "2.7.6"
  }
 },
 "nbformat": 4,
 "nbformat_minor": 0
}
