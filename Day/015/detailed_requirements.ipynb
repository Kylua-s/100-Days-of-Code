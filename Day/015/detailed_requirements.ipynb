{
 "cells": [
  {
   "cell_type": "markdown",
   "source": [
    "Coffee Machine Program Requirements:\n",
    "1. Prompt user by asking “What would you like? (espresso/latte/cappuccino):”\n",
    "    - Check the user’s input to decide what to do next.\n",
    "    - The prompt should show every time action has completed, e.g., once the drink is dispensed.\n",
    "    The prompt should show again to serve the next customer.\n",
    "\n",
    "2. Turn off the Coffee Machine by entering “off” to the prompt.\n",
    "    - For maintainers of the coffee machine, they can use “off” as the secret word to turn off\n",
    "    the machine. Your code should end execution when this happens.\n",
    "\n",
    "3. Print report.\n",
    "    - When the user enters “report” to the prompt, a report should be generated that shows\n",
    "    the current resource values. e.g.\n",
    "    Water: 100ml\n",
    "    Milk: 50ml\n",
    "    Coffee: 76g\n",
    "    Money: &#36;2.5\n",
    "\n",
    "4. Check resources sufficient?\n",
    "    - When the user chooses a drink, the program should check if there are enough\n",
    "    resources to make that drink.\n",
    "    - E.g., if Latte requires 200ml water, but there is only 100ml left in the machine. It should\n",
    "    not continue to make the drink but print: “Sorry there is not enough water.”\n",
    "    - The same should happen if another resource is depleted, e.g., milk or coffee.\n",
    "\n",
    "5. Process coins.\n",
    "    - If there are sufficient resources to make the drink selected, then the program should\n",
    "    prompt the user to insert coins.\n",
    "    - Remember that quarters = &#36;0.25, dimes = &#36;0.10, nickles = &#36;0.05, pennies = &#36;0.01\n",
    "    - Calculate the monetary value of the coins inserted. E.g. 1 quarter, 2 dimes, 1 nickel, 2\n",
    "    pennies = 0.25 + 0.1 x 2 + 0.05 + 0.01 x 2 = $0.52\n",
    "\n",
    "6. Check transaction successful?\n",
    "    - Check that the user has inserted enough money to purchase the drink they selected.\n",
    "    E.g. Latte cost &#36;2.50, but they only inserted &#36;0.52 then after counting the coins, the\n",
    "    program should say “Sorry that's not enough money. Money refunded.”.\n",
    "    - But if the user has inserted enough money, then the cost of the drink gets added to the\n",
    "    machine as the profit, and this will be reflected the next time “report” is triggered. E.g.\n",
    "    Water: 100ml\n",
    "    Milk: 50ml\n",
    "    Coffee: 76g\n",
    "    Money: &#36;2.5\n",
    "    - If the user has inserted too much money, the machine should offer change.\n",
    "    E.g. “Here are &#36;2.45 dollars in change.” The change should be rounded to 2 decimal places.\n",
    "\n",
    "7. Make Coffee.\n",
    "    - If the transaction is successful and there are enough resources to make the drink the\n",
    "    user selected, then the ingredients to make the drink should be deducted from the\n",
    "    coffee machine resources.\n",
    "    E.g., report before purchasing latte:\n",
    "    Water: 300ml\n",
    "    Milk: 200ml\n",
    "    Coffee: 100g\n",
    "    Money: &#36;0\n",
    "    Report after purchasing latte:\n",
    "    Water: 100ml\n",
    "    Milk: 50ml\n",
    "    Coffee: 76g\n",
    "    Money: &#36;2.5\n",
    "    - Once all resources have been deducted, tell the user “Here is your latte. Enjoy!”. If\n",
    "    latte was their choice of drink."
   ],
   "metadata": {
    "collapsed": false
   }
  }
 ],
 "metadata": {
  "kernelspec": {
   "display_name": "Python 3",
   "language": "python",
   "name": "python3"
  },
  "language_info": {
   "codemirror_mode": {
    "name": "ipython",
    "version": 2
   },
   "file_extension": ".py",
   "mimetype": "text/x-python",
   "name": "python",
   "nbconvert_exporter": "python",
   "pygments_lexer": "ipython2",
   "version": "2.7.6"
  }
 },
 "nbformat": 4,
 "nbformat_minor": 0
}
