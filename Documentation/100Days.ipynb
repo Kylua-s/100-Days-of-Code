{
 "cells": [
  {
   "attachments": {},
   "cell_type": "markdown",
   "metadata": {},
   "source": [
    "# 100 Days of Code: The Complete Python Pro Bootcamp - Documentation\n",
    "In this notebook, I will be documenting my journey through the \"100 Days of Code\" course. This notebook will serve as a comprehensive record of my progress, including my daily coding activities, notes, and insights gained throughout the challenge."
   ]
  },
  {
   "attachments": {},
   "cell_type": "markdown",
   "metadata": {},
   "source": [
    "## Day 001\n",
    "\n",
    "- Single and double quotes\n",
    "    - Python doesn’t make any difference between single and double quotes\n",
    "    - Mostly a matter of personal preference\n",
    "    - Most common convention is to use single quotes for string literals and reserve double quotes for strings that contain single quotes\n",
    "- Spaces are important\n",
    "    - Python uses indentation to indicate a block of code\n",
    "- A variable...\n",
    "    - doesn't need to be declared\n",
    "    - is case sensitive\n",
    "    - name must start with a letter or the underscore\n",
    "    - name with multiple words is best separated by a underscore\n"
   ]
  },
  {
   "cell_type": "code",
   "execution_count": 19,
   "metadata": {},
   "outputs": [
    {
     "name": "stdout",
     "output_type": "stream",
     "text": [
      "Hello there\n",
      "14\n",
      "General Kenobi\n"
     ]
    }
   ],
   "source": [
    "# Print function\n",
    "print('Hello there')\n",
    "\n",
    "# Len function\n",
    "length = len('General Kenobi')\n",
    "print(length)\n",
    "\n",
    "# Input function\n",
    "user_input = input(\"What's on your mind?\")\n",
    "print(user_input)"
   ]
  },
  {
   "attachments": {},
   "cell_type": "markdown",
   "metadata": {},
   "source": [
    "## Day 002\n",
    "\n",
    "- Subscripting\n",
    "    - A string can be subscripted by using square brackets [] and the index or slice notation\n",
    "- Data type conversion\n",
    "    - To convert the data type of a variable, simply include the desired data type in parentheses followed by the variable to be converted\n",
    "- Math operators\n",
    "    - Addition: + | Subtraction: - | Multiplication: * | Division: /\n",
    "    - Floor division: // | Modulo (remainder): % | Exponentiation: **\n",
    "- f-Strings \n",
    "    - They begin with the letter \"f\" and use curly braces {} to enclose expressions that will be evaluated at runtime and their values will be inserted into the string"
   ]
  },
  {
   "cell_type": "code",
   "execution_count": 15,
   "metadata": {},
   "outputs": [
    {
     "name": "stdout",
     "output_type": "stream",
     "text": [
      "The cake is a 1 / 10\n"
     ]
    }
   ],
   "source": [
    "# Subscripting\n",
    "message = 'The cake is a lie.'\n",
    "out_of_context = message[4: 8]\n",
    "\n",
    "# Data type conversion\n",
    "rating = int(1.98)\n",
    "\n",
    "# f Strings\n",
    "print(f\"The {out_of_context} is a {rating} / 10\")"
   ]
  },
  {
   "attachments": {},
   "cell_type": "markdown",
   "metadata": {},
   "source": [
    "## Day 003\n",
    "\n",
    "- Conditional statements\n",
    "    - if, elif and else is used to execute different blocks of code based on the evaluation of multiple conditions\n",
    "- Count function \n",
    "    - It's used to count the number of occurrences of a specific element in a given sequence or string"
   ]
  },
  {
   "cell_type": "code",
   "execution_count": 16,
   "metadata": {},
   "outputs": [
    {
     "name": "stdout",
     "output_type": "stream",
     "text": [
      "Counting ...\n"
     ]
    }
   ],
   "source": [
    "# Conditional statements\n",
    "if 1 + 1 == 1:\n",
    "    print('Check again!')\n",
    "elif 1 + 1 == 42:\n",
    "    print('The answer is 42')\n",
    "else:\n",
    "    print('Counting ...')\n",
    "\n",
    "# Count function\n",
    "minion = 'Banana'\n",
    "a_count = minion.count('a')"
   ]
  },
  {
   "attachments": {},
   "cell_type": "markdown",
   "metadata": {},
   "source": [
    "## Day 004\n",
    "\n",
    "- The random module can ...\n",
    "    - generating random numbers\n",
    "    - selecting random items from a sequence\n",
    "    - shuffle sequences randomly\n",
    "    - ...\n",
    "- Lists\n",
    "    - Aa list is a mutable, ordered sequence of elements, enclosed in square brackets and separated by commas, which can contain elements of different data types"
   ]
  },
  {
   "cell_type": "code",
   "execution_count": 17,
   "metadata": {},
   "outputs": [
    {
     "name": "stdout",
     "output_type": "stream",
     "text": [
      "[0, 1, 12, 17, 33, 7]\n"
     ]
    }
   ],
   "source": [
    "# Random module\n",
    "import random\n",
    "lucky_number = random.randint(0, 100)\n",
    "\n",
    "# Lists\n",
    "my_numbers = [0, 1, 12, 17, 33, lucky_number]\n",
    "print(my_numbers)"
   ]
  },
  {
   "attachments": {},
   "cell_type": "markdown",
   "metadata": {},
   "source": [
    "## Day 005\n",
    "\n",
    "- For loop\n",
    "    - For loops are control structures used for executing a block of code repeatedly, either for a fixed number of times\n",
    "- Range function\n",
    "    - It is used to generate a sequence of numbers within a specified range\n",
    "    - The first parameter is the start parameter (optional, default=0)\n",
    "    - The second is the stop parameter (required)\n",
    "    - The third is the step parameter (optional, default=1)"
   ]
  },
  {
   "cell_type": "code",
   "execution_count": 18,
   "metadata": {},
   "outputs": [
    {
     "name": "stdout",
     "output_type": "stream",
     "text": [
      "15\n",
      "3\n"
     ]
    }
   ],
   "source": [
    "# For loops\n",
    "my_list = [1, 2, 3, 4, 5]\n",
    "total = 0\n",
    "for number in my_list:\n",
    "    total += number\n",
    "print(total)\n",
    "\n",
    "# Range function\n",
    "total = 0\n",
    "for number in range(3, 7, 5):\n",
    "    total += number\n",
    "print(total)"
   ]
  }
 ],
 "metadata": {
  "kernelspec": {
   "display_name": "Python 3",
   "language": "python",
   "name": "python3"
  },
  "language_info": {
   "codemirror_mode": {
    "name": "ipython",
    "version": 3
   },
   "file_extension": ".py",
   "mimetype": "text/x-python",
   "name": "python",
   "nbconvert_exporter": "python",
   "pygments_lexer": "ipython3",
   "version": "3.10.9"
  },
  "orig_nbformat": 4
 },
 "nbformat": 4,
 "nbformat_minor": 2
}
