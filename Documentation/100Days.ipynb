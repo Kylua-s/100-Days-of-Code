{
 "cells": [
  {
   "attachments": {},
   "cell_type": "markdown",
   "metadata": {},
   "source": [
    "# 100 Days of Code: The Complete Python Pro Bootcamp - Documentation\n",
    "In this notebook, I will be documenting my journey through the \"100 Days of Code\" course. This notebook will serve as a comprehensive record of my progress, including my daily coding activities, notes, and insights gained throughout the challenge."
   ]
  },
  {
   "attachments": {},
   "cell_type": "markdown",
   "metadata": {},
   "source": [
    "## Day 001\n",
    "\n",
    "- Single and double quotes\n",
    "    - Python doesn’t make any difference between single and double quotes\n",
    "    - Mostly a matter of personal preference\n",
    "    - Most common convention is to use single quotes for string literals and reserve double quotes for strings that contain single quotes\n",
    "- Spaces are important\n",
    "    - Python uses indentation to indicate a block of code\n",
    "- A variable...\n",
    "    - doesn't need to be declared\n",
    "    - is case sensitive\n",
    "    - name must start with a letter or the underscore\n",
    "    - name with multiple words is best separated by a underscore\n"
   ]
  },
  {
   "attachments": {},
   "cell_type": "markdown",
   "metadata": {},
   "source": [
    "## Day 002\n",
    "\n",
    "- Subscripting\n",
    "    - A string can be subscripted by using square brackets [] and the index or slice notation\n",
    "- Data type conversion\n",
    "    - To convert the data type of a variable, simply include the desired data type in parentheses followed by the variable to be converted\n",
    "- Math operators\n",
    "    - Addition: + | Subtraction: - | Multiplication: * | Division: /\n",
    "    - Floor division: // | Modulo (remainder): % | Exponentiation: **\n",
    "- f-Strings \n",
    "    - They begin with the letter \"f\" and use curly braces {} to enclose expressions that will be evaluated at runtime and their values will be inserted into the string"
   ]
  }
 ],
 "metadata": {
  "kernelspec": {
   "display_name": "Python 3",
   "language": "python",
   "name": "python3"
  },
  "language_info": {
   "codemirror_mode": {
    "name": "ipython",
    "version": 3
   },
   "file_extension": ".py",
   "mimetype": "text/x-python",
   "name": "python",
   "nbconvert_exporter": "python",
   "pygments_lexer": "ipython3",
   "version": "3.10.9"
  },
  "orig_nbformat": 4
 },
 "nbformat": 4,
 "nbformat_minor": 2
}
