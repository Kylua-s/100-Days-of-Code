{
 "cells": [
  {
   "attachments": {},
   "cell_type": "markdown",
   "metadata": {},
   "source": [
    "# 100 Days of Code: The Complete Python Pro Bootcamp - Documentation\n",
    "In this notebook, I will be documenting my journey through the \"100 Days of Code\" course. This notebook will serve as a comprehensive record of my progress, including my daily coding activities, notes, and insights gained throughout the challenge."
   ]
  },
  {
   "attachments": {},
   "cell_type": "markdown",
   "metadata": {},
   "source": [
    "## Day 001\n",
    "\n",
    "#### Project: Band Name Generator\n",
    "1. Create a greeting for your program.\n",
    "2. Ask the user for the city that they grew up in.\n",
    "3. Ask the user for the name of a pet.\n",
    "4. Combine the name of their city and pet and show them their band name.\n",
    "5. Make sure the input cursor shows on a new line:\n",
    "\n",
    "#### Solution\n",
    "```Python\n",
    "print(\"Welcome to the Band Name Generator.\")\n",
    "birth_city = input(\"What's the name of the city you grew up in?\\n\")\n",
    "pet_name = input(\"What's your pet's name?\\n\")\n",
    "print(\"Your band name could be \" + birth_city + \" \" + pet_name)\n",
    "```\n",
    "\n",
    "#### Notes\n",
    "- Single and double quotes\n",
    "    - Python doesn’t make any difference between single and double quotes\n",
    "    - Mostly a matter of personal preference\n",
    "    - Most common convention is to use single quotes for string literals and reserve double quotes for strings that contain single quotes\n",
    "- Spaces are important\n",
    "    - Python uses indentation to indicate a block of code.\n",
    "- A variable...\n",
    "    - doesn't need to be declared\n",
    "    - is case sensitive\n",
    "    - name must start with a letter or the underscore\n",
    "    - name with multiple words is best separated by a underscore\n"
   ]
  }
 ],
 "metadata": {
  "kernelspec": {
   "display_name": "Python 3",
   "language": "python",
   "name": "python3"
  },
  "language_info": {
   "codemirror_mode": {
    "name": "ipython",
    "version": 3
   },
   "file_extension": ".py",
   "mimetype": "text/x-python",
   "name": "python",
   "nbconvert_exporter": "python",
   "pygments_lexer": "ipython3",
   "version": "3.10.9"
  },
  "orig_nbformat": 4
 },
 "nbformat": 4,
 "nbformat_minor": 2
}
